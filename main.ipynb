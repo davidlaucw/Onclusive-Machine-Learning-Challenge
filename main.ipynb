{
 "cells": [
  {
   "cell_type": "markdown",
   "metadata": {},
   "source": [
    "# Onclusive Machine Learning Challenge\n",
    "### Building an ML system to verify the veracity of claims from the dataset PUBHEALTH "
   ]
  },
  {
   "cell_type": "markdown",
   "metadata": {},
   "source": [
    "The general approach is using transfer learning. Since training a comprehensive NLP model would require a huge amount of data and computing resources, and there are already many pre-trained general-purpose models available publicly. All we have to do is select a suitable one to start with to fine-tune it for our purpose."
   ]
  },
  {
   "cell_type": "markdown",
   "metadata": {},
   "source": [
    "Loading the necessary libraies:"
   ]
  },
  {
   "cell_type": "code",
   "execution_count": 2,
   "metadata": {},
   "outputs": [],
   "source": [
    "import numpy as np\n",
    "import pandas as pd\n",
    "from datasets import load_dataset, load_metric\n",
    "from transformers import pipeline, AutoTokenizer, AutoModelForSequenceClassification, TrainingArguments, Trainer, DataCollatorWithPadding\n",
    "import mlflow"
   ]
  },
  {
   "cell_type": "markdown",
   "metadata": {},
   "source": [
    "Loading the PUBHEALTH dataset"
   ]
  },
  {
   "cell_type": "code",
   "execution_count": 2,
   "metadata": {},
   "outputs": [
    {
     "name": "stderr",
     "output_type": "stream",
     "text": [
      "Using custom data configuration default\n",
      "Reusing dataset health_fact (C:\\Users\\david\\.cache\\huggingface\\datasets\\health_fact\\default\\1.1.0\\99503637e4255bd805f84d57031c18fe4dd88298f00299d56c94fc59ed68ec19)\n"
     ]
    },
    {
     "data": {
      "application/vnd.jupyter.widget-view+json": {
       "model_id": "8593e30d12904caa8f88c5e48c8d37f3",
       "version_major": 2,
       "version_minor": 0
      },
      "text/plain": [
       "  0%|          | 0/3 [00:00<?, ?it/s]"
      ]
     },
     "metadata": {},
     "output_type": "display_data"
    }
   ],
   "source": [
    "dataset = load_dataset(\"health_fact\")"
   ]
  },
  {
   "cell_type": "markdown",
   "metadata": {},
   "source": [
    "Removing invalid entries"
   ]
  },
  {
   "cell_type": "code",
   "execution_count": 3,
   "metadata": {},
   "outputs": [
    {
     "name": "stderr",
     "output_type": "stream",
     "text": [
      "Loading cached processed dataset at C:\\Users\\david\\.cache\\huggingface\\datasets\\health_fact\\default\\1.1.0\\99503637e4255bd805f84d57031c18fe4dd88298f00299d56c94fc59ed68ec19\\cache-41180d96da5bd5f3.arrow\n",
      "Loading cached processed dataset at C:\\Users\\david\\.cache\\huggingface\\datasets\\health_fact\\default\\1.1.0\\99503637e4255bd805f84d57031c18fe4dd88298f00299d56c94fc59ed68ec19\\cache-e37781bb9e63676d.arrow\n",
      "Loading cached processed dataset at C:\\Users\\david\\.cache\\huggingface\\datasets\\health_fact\\default\\1.1.0\\99503637e4255bd805f84d57031c18fe4dd88298f00299d56c94fc59ed68ec19\\cache-bd791c5953b7d1ab.arrow\n"
     ]
    }
   ],
   "source": [
    "dataset = dataset.filter(lambda example: example['label'] != -1)"
   ]
  },
  {
   "cell_type": "markdown",
   "metadata": {},
   "source": [
    "The first pre-trained model to try was the DistilBERT base model (uncased) (https://huggingface.co/distilbert-base-uncased), which is a distilled version of the BERT base model. It is a good starting point as it uses much less computing resources to re-tune and use. The drawback is that the max length limit of tokens is only 512. The input text is needed to be truncated."
   ]
  },
  {
   "cell_type": "markdown",
   "metadata": {},
   "source": [
    "Before inputting the text data into the model, it needs to be tokenized, which encodes the strings of text into transformer-readable token ID integers."
   ]
  },
  {
   "cell_type": "code",
   "execution_count": 4,
   "metadata": {},
   "outputs": [],
   "source": [
    "tokenizer = AutoTokenizer.from_pretrained(\"distilbert-base-uncased\")"
   ]
  },
  {
   "cell_type": "code",
   "execution_count": 5,
   "metadata": {},
   "outputs": [],
   "source": [
    "data_collator = DataCollatorWithPadding(tokenizer=tokenizer)  # for dynamic padding"
   ]
  },
  {
   "cell_type": "code",
   "execution_count": 6,
   "metadata": {},
   "outputs": [
    {
     "name": "stderr",
     "output_type": "stream",
     "text": [
      "Parameter 'function'=<function tokenize_function at 0x0000018B37D0A4C0> of the transform datasets.arrow_dataset.Dataset._map_single couldn't be hashed properly, a random hash was used instead. Make sure your transforms and parameters are serializable with pickle or dill for the dataset fingerprinting and caching to work. If you reuse this transform, the caching mechanism will consider it to be different from the previous calls and recompute everything. This warning is only showed once. Subsequent hashing failures won't be showed.\n"
     ]
    },
    {
     "data": {
      "application/vnd.jupyter.widget-view+json": {
       "model_id": "d983dc29b50240768b593a101d413e71",
       "version_major": 2,
       "version_minor": 0
      },
      "text/plain": [
       "  0%|          | 0/10 [00:00<?, ?ba/s]"
      ]
     },
     "metadata": {},
     "output_type": "display_data"
    },
    {
     "data": {
      "application/vnd.jupyter.widget-view+json": {
       "model_id": "82597314a8b6438db341e59426ff3d1e",
       "version_major": 2,
       "version_minor": 0
      },
      "text/plain": [
       "  0%|          | 0/2 [00:00<?, ?ba/s]"
      ]
     },
     "metadata": {},
     "output_type": "display_data"
    },
    {
     "data": {
      "application/vnd.jupyter.widget-view+json": {
       "model_id": "775cc1b3d510400ba7921a4f419da663",
       "version_major": 2,
       "version_minor": 0
      },
      "text/plain": [
       "  0%|          | 0/2 [00:00<?, ?ba/s]"
      ]
     },
     "metadata": {},
     "output_type": "display_data"
    }
   ],
   "source": [
    "def tokenize_function(examples):\n",
    "    return tokenizer(examples[\"main_text\"], truncation=True)  # should take the \"claim\" field also, but skipped due to the length limit \n",
    "\n",
    "tokenized_datasets = dataset.map(tokenize_function, batched=True) "
   ]
  },
  {
   "cell_type": "code",
   "execution_count": null,
   "metadata": {},
   "outputs": [],
   "source": [
    "# smaller subset of data was used to test the code first\n",
    "# small_train_dataset = tokenized_datasets[\"train\"].shuffle(seed=42).select(range(100)) \n",
    "# small_eval_dataset = tokenized_datasets[\"test\"].shuffle(seed=42).select(range(100))"
   ]
  },
  {
   "cell_type": "markdown",
   "metadata": {},
   "source": [
    "Specifying the chosen model"
   ]
  },
  {
   "cell_type": "code",
   "execution_count": 8,
   "metadata": {},
   "outputs": [
    {
     "name": "stderr",
     "output_type": "stream",
     "text": [
      "Some weights of the model checkpoint at distilbert-base-uncased were not used when initializing DistilBertForSequenceClassification: ['vocab_projector.bias', 'vocab_transform.weight', 'vocab_layer_norm.weight', 'vocab_layer_norm.bias', 'vocab_transform.bias', 'vocab_projector.weight']\n",
      "- This IS expected if you are initializing DistilBertForSequenceClassification from the checkpoint of a model trained on another task or with another architecture (e.g. initializing a BertForSequenceClassification model from a BertForPreTraining model).\n",
      "- This IS NOT expected if you are initializing DistilBertForSequenceClassification from the checkpoint of a model that you expect to be exactly identical (initializing a BertForSequenceClassification model from a BertForSequenceClassification model).\n",
      "Some weights of DistilBertForSequenceClassification were not initialized from the model checkpoint at distilbert-base-uncased and are newly initialized: ['pre_classifier.weight', 'pre_classifier.bias', 'classifier.weight', 'classifier.bias']\n",
      "You should probably TRAIN this model on a down-stream task to be able to use it for predictions and inference.\n"
     ]
    }
   ],
   "source": [
    "model = AutoModelForSequenceClassification.from_pretrained(\"distilbert-base-uncased\",num_labels=4)"
   ]
  },
  {
   "cell_type": "markdown",
   "metadata": {},
   "source": [
    "Setting up the training details"
   ]
  },
  {
   "cell_type": "code",
   "execution_count": 3,
   "metadata": {},
   "outputs": [],
   "source": [
    "training_args = TrainingArguments(output_dir=\"models/distilbert-base-uncased-mod\")  \n",
    "# Hyperparameters were not set at the begining. There should be hyperparameter searching afterwards to improve the model performance."
   ]
  },
  {
   "cell_type": "code",
   "execution_count": 44,
   "metadata": {},
   "outputs": [],
   "source": [
    "metric = load_metric(\"f1\")  # f1 is good for measuring the classification problems, also applied to multi-class ones\n",
    "def compute_metrics(eval_pred):\n",
    "    logits, labels = eval_pred\n",
    "    predictions = np.argmax(logits, axis=-1)\n",
    "    final_metric = {}\n",
    "    for key in ['micro','macro','weighted']:\n",
    "        final_metric[key] = metric.compute(predictions=predictions, references=labels, average=key)\n",
    "    final_metric['individuals'] = metric.compute(predictions=predictions, references=labels, average=None)\n",
    "    return final_metric"
   ]
  },
  {
   "cell_type": "code",
   "execution_count": 31,
   "metadata": {},
   "outputs": [],
   "source": [
    "trainer = Trainer(\n",
    "    model=model,\n",
    "    args=training_args,\n",
    "    # train_dataset=small_train_dataset,   # smaller subset of data was used to test the code first\n",
    "    # eval_dataset=small_eval_dataset,\n",
    "    train_dataset=tokenized_datasets[\"train\"],  # then input the whole training set\n",
    "    eval_dataset=tokenized_datasets[\"validation\"],\n",
    "    tokenizer=tokenizer,\n",
    "    data_collator=data_collator,\n",
    "    compute_metrics=compute_metrics,\n",
    ")"
   ]
  },
  {
   "cell_type": "code",
   "execution_count": 32,
   "metadata": {},
   "outputs": [],
   "source": [
    "# this is for solving one error in training\n",
    "old_collator = trainer.data_collator\n",
    "trainer.data_collator = lambda data: dict(old_collator(data))"
   ]
  },
  {
   "cell_type": "markdown",
   "metadata": {},
   "source": [
    "Run the training"
   ]
  },
  {
   "cell_type": "code",
   "execution_count": 33,
   "metadata": {},
   "outputs": [
    {
     "name": "stderr",
     "output_type": "stream",
     "text": [
      "The following columns in the training set  don't have a corresponding argument in `DistilBertForSequenceClassification.forward` and have been ignored: main_text, sources, explanation, fact_checkers, claim, claim_id, subjects, date_published.\n",
      "***** Running training *****\n",
      "  Num examples = 9804\n",
      "  Num Epochs = 3\n",
      "  Instantaneous batch size per device = 8\n",
      "  Total train batch size (w. parallel, distributed & accumulation) = 8\n",
      "  Gradient Accumulation steps = 1\n",
      "  Total optimization steps = 3678\n"
     ]
    },
    {
     "data": {
      "application/vnd.jupyter.widget-view+json": {
       "model_id": "c1f4ee3afe504195818a292b60a2db42",
       "version_major": 2,
       "version_minor": 0
      },
      "text/plain": [
       "  0%|          | 0/3678 [00:00<?, ?it/s]"
      ]
     },
     "metadata": {},
     "output_type": "display_data"
    },
    {
     "name": "stderr",
     "output_type": "stream",
     "text": [
      "Saving model checkpoint to models/distilbert-base-uncased-mod\\checkpoint-500\n",
      "Configuration saved in models/distilbert-base-uncased-mod\\checkpoint-500\\config.json\n"
     ]
    },
    {
     "name": "stdout",
     "output_type": "stream",
     "text": [
      "{'loss': 0.335, 'learning_rate': 4.320282762370854e-05, 'epoch': 0.41}\n"
     ]
    },
    {
     "name": "stderr",
     "output_type": "stream",
     "text": [
      "Model weights saved in models/distilbert-base-uncased-mod\\checkpoint-500\\pytorch_model.bin\n",
      "tokenizer config file saved in models/distilbert-base-uncased-mod\\checkpoint-500\\tokenizer_config.json\n",
      "Special tokens file saved in models/distilbert-base-uncased-mod\\checkpoint-500\\special_tokens_map.json\n",
      "Saving model checkpoint to models/distilbert-base-uncased-mod\\checkpoint-1000\n",
      "Configuration saved in models/distilbert-base-uncased-mod\\checkpoint-1000\\config.json\n"
     ]
    },
    {
     "name": "stdout",
     "output_type": "stream",
     "text": [
      "{'loss': 0.3503, 'learning_rate': 3.640565524741708e-05, 'epoch': 0.82}\n"
     ]
    },
    {
     "name": "stderr",
     "output_type": "stream",
     "text": [
      "Model weights saved in models/distilbert-base-uncased-mod\\checkpoint-1000\\pytorch_model.bin\n",
      "tokenizer config file saved in models/distilbert-base-uncased-mod\\checkpoint-1000\\tokenizer_config.json\n",
      "Special tokens file saved in models/distilbert-base-uncased-mod\\checkpoint-1000\\special_tokens_map.json\n",
      "Saving model checkpoint to models/distilbert-base-uncased-mod\\checkpoint-1500\n",
      "Configuration saved in models/distilbert-base-uncased-mod\\checkpoint-1500\\config.json\n"
     ]
    },
    {
     "name": "stdout",
     "output_type": "stream",
     "text": [
      "{'loss': 0.2477, 'learning_rate': 2.9608482871125614e-05, 'epoch': 1.22}\n"
     ]
    },
    {
     "name": "stderr",
     "output_type": "stream",
     "text": [
      "Model weights saved in models/distilbert-base-uncased-mod\\checkpoint-1500\\pytorch_model.bin\n",
      "tokenizer config file saved in models/distilbert-base-uncased-mod\\checkpoint-1500\\tokenizer_config.json\n",
      "Special tokens file saved in models/distilbert-base-uncased-mod\\checkpoint-1500\\special_tokens_map.json\n",
      "Saving model checkpoint to models/distilbert-base-uncased-mod\\checkpoint-2000\n",
      "Configuration saved in models/distilbert-base-uncased-mod\\checkpoint-2000\\config.json\n"
     ]
    },
    {
     "name": "stdout",
     "output_type": "stream",
     "text": [
      "{'loss': 0.2127, 'learning_rate': 2.281131049483415e-05, 'epoch': 1.63}\n"
     ]
    },
    {
     "name": "stderr",
     "output_type": "stream",
     "text": [
      "Model weights saved in models/distilbert-base-uncased-mod\\checkpoint-2000\\pytorch_model.bin\n",
      "tokenizer config file saved in models/distilbert-base-uncased-mod\\checkpoint-2000\\tokenizer_config.json\n",
      "Special tokens file saved in models/distilbert-base-uncased-mod\\checkpoint-2000\\special_tokens_map.json\n",
      "Saving model checkpoint to models/distilbert-base-uncased-mod\\checkpoint-2500\n",
      "Configuration saved in models/distilbert-base-uncased-mod\\checkpoint-2500\\config.json\n"
     ]
    },
    {
     "name": "stdout",
     "output_type": "stream",
     "text": [
      "{'loss': 0.2056, 'learning_rate': 1.6014138118542688e-05, 'epoch': 2.04}\n"
     ]
    },
    {
     "name": "stderr",
     "output_type": "stream",
     "text": [
      "Model weights saved in models/distilbert-base-uncased-mod\\checkpoint-2500\\pytorch_model.bin\n",
      "tokenizer config file saved in models/distilbert-base-uncased-mod\\checkpoint-2500\\tokenizer_config.json\n",
      "Special tokens file saved in models/distilbert-base-uncased-mod\\checkpoint-2500\\special_tokens_map.json\n",
      "Saving model checkpoint to models/distilbert-base-uncased-mod\\checkpoint-3000\n",
      "Configuration saved in models/distilbert-base-uncased-mod\\checkpoint-3000\\config.json\n"
     ]
    },
    {
     "name": "stdout",
     "output_type": "stream",
     "text": [
      "{'loss': 0.1125, 'learning_rate': 9.216965742251224e-06, 'epoch': 2.45}\n"
     ]
    },
    {
     "name": "stderr",
     "output_type": "stream",
     "text": [
      "Model weights saved in models/distilbert-base-uncased-mod\\checkpoint-3000\\pytorch_model.bin\n",
      "tokenizer config file saved in models/distilbert-base-uncased-mod\\checkpoint-3000\\tokenizer_config.json\n",
      "Special tokens file saved in models/distilbert-base-uncased-mod\\checkpoint-3000\\special_tokens_map.json\n",
      "Saving model checkpoint to models/distilbert-base-uncased-mod\\checkpoint-3500\n",
      "Configuration saved in models/distilbert-base-uncased-mod\\checkpoint-3500\\config.json\n"
     ]
    },
    {
     "name": "stdout",
     "output_type": "stream",
     "text": [
      "{'loss': 0.1221, 'learning_rate': 2.419793365959761e-06, 'epoch': 2.85}\n"
     ]
    },
    {
     "name": "stderr",
     "output_type": "stream",
     "text": [
      "Model weights saved in models/distilbert-base-uncased-mod\\checkpoint-3500\\pytorch_model.bin\n",
      "tokenizer config file saved in models/distilbert-base-uncased-mod\\checkpoint-3500\\tokenizer_config.json\n",
      "Special tokens file saved in models/distilbert-base-uncased-mod\\checkpoint-3500\\special_tokens_map.json\n",
      "\n",
      "\n",
      "Training completed. Do not forget to share your model on huggingface.co/models =)\n",
      "\n",
      "\n"
     ]
    },
    {
     "name": "stdout",
     "output_type": "stream",
     "text": [
      "{'train_runtime': 695.7751, 'train_samples_per_second': 42.272, 'train_steps_per_second': 5.286, 'train_loss': 0.22084757165457647, 'epoch': 3.0}\n"
     ]
    },
    {
     "data": {
      "text/plain": [
       "TrainOutput(global_step=3678, training_loss=0.22084757165457647, metrics={'train_runtime': 695.7751, 'train_samples_per_second': 42.272, 'train_steps_per_second': 5.286, 'train_loss': 0.22084757165457647, 'epoch': 3.0})"
      ]
     },
     "execution_count": 33,
     "metadata": {},
     "output_type": "execute_result"
    }
   ],
   "source": [
    "mlflow.end_run()  # removing previous run if any\n",
    "trainer.train()"
   ]
  },
  {
   "cell_type": "code",
   "execution_count": 47,
   "metadata": {},
   "outputs": [
    {
     "name": "stderr",
     "output_type": "stream",
     "text": [
      "PyTorch: setting up devices\n",
      "The default value for the training argument `--report_to` will change in v5 (from all installed integrations to none). In v5, you will need to use `--report_to all` to get the same behavior as now. You should start updating your code and make this info disappear :-).\n",
      "Saving model checkpoint to models/distilbert-base-uncased-mod2\n",
      "Configuration saved in models/distilbert-base-uncased-mod2\\config.json\n",
      "Model weights saved in models/distilbert-base-uncased-mod2\\pytorch_model.bin\n",
      "tokenizer config file saved in models/distilbert-base-uncased-mod2\\tokenizer_config.json\n",
      "Special tokens file saved in models/distilbert-base-uncased-mod2\\special_tokens_map.json\n"
     ]
    }
   ],
   "source": [
    "trainer.save_model()"
   ]
  },
  {
   "cell_type": "code",
   "execution_count": 46,
   "metadata": {},
   "outputs": [
    {
     "name": "stderr",
     "output_type": "stream",
     "text": [
      "The following columns in the evaluation set  don't have a corresponding argument in `DistilBertForSequenceClassification.forward` and have been ignored: main_text, sources, explanation, fact_checkers, claim, claim_id, subjects, date_published.\n",
      "***** Running Evaluation *****\n",
      "  Num examples = 1214\n",
      "  Batch size = 8\n",
      "Trainer is attempting to log a value of \"{'f1': 0.6927512355848435}\" of type <class 'dict'> for key \"eval_micro\" as a metric. MLflow's log_metric() only accepts float and int types so we dropped this attribute.\n",
      "Trainer is attempting to log a value of \"{'f1': 0.5484052734706103}\" of type <class 'dict'> for key \"eval_macro\" as a metric. MLflow's log_metric() only accepts float and int types so we dropped this attribute.\n",
      "Trainer is attempting to log a value of \"{'f1': 0.6936196071712313}\" of type <class 'dict'> for key \"eval_weighted\" as a metric. MLflow's log_metric() only accepts float and int types so we dropped this attribute.\n",
      "Trainer is attempting to log a value of \"{'f1': array([0.63729809, 0.34269663, 0.84      , 0.37362637])}\" of type <class 'dict'> for key \"eval_individuals\" as a metric. MLflow's log_metric() only accepts float and int types so we dropped this attribute.\n",
      "Trainer is attempting to log a value of \"{'f1': 0.6927512355848435}\" of type <class 'dict'> for key \"eval/micro\" as a scalar. This invocation of Tensorboard's writer.add_scalar() is incorrect so we dropped this attribute.\n",
      "Trainer is attempting to log a value of \"{'f1': 0.5484052734706103}\" of type <class 'dict'> for key \"eval/macro\" as a scalar. This invocation of Tensorboard's writer.add_scalar() is incorrect so we dropped this attribute.\n",
      "Trainer is attempting to log a value of \"{'f1': 0.6936196071712313}\" of type <class 'dict'> for key \"eval/weighted\" as a scalar. This invocation of Tensorboard's writer.add_scalar() is incorrect so we dropped this attribute.\n",
      "Trainer is attempting to log a value of \"{'f1': array([0.63729809, 0.34269663, 0.84      , 0.37362637])}\" of type <class 'dict'> for key \"eval/individuals\" as a scalar. This invocation of Tensorboard's writer.add_scalar() is incorrect so we dropped this attribute.\n"
     ]
    },
    {
     "data": {
      "text/plain": [
       "{'eval_loss': 1.8061708211898804,\n",
       " 'eval_micro': {'f1': 0.6927512355848435},\n",
       " 'eval_macro': {'f1': 0.5484052734706103},\n",
       " 'eval_weighted': {'f1': 0.6936196071712313},\n",
       " 'eval_individuals': {'f1': array([0.63729809, 0.34269663, 0.84      , 0.37362637])},\n",
       " 'eval_runtime': 13.4377,\n",
       " 'eval_samples_per_second': 90.343,\n",
       " 'eval_steps_per_second': 11.311,\n",
       " 'epoch': 3.0}"
      ]
     },
     "execution_count": 46,
     "metadata": {},
     "output_type": "execute_result"
    }
   ],
   "source": [
    "trainer.evaluate()"
   ]
  }
 ],
 "metadata": {
  "instance_type": "ml.t3.medium",
  "kernelspec": {
   "display_name": "Python 3.8.13 ('hugging')",
   "language": "python",
   "name": "python3"
  },
  "language_info": {
   "codemirror_mode": {
    "name": "ipython",
    "version": 3
   },
   "file_extension": ".py",
   "mimetype": "text/x-python",
   "name": "python",
   "nbconvert_exporter": "python",
   "pygments_lexer": "ipython3",
   "version": "3.8.13"
  },
  "vscode": {
   "interpreter": {
    "hash": "13beb70116e3fc68cde5c81aa81d87a543cff74d49f1afb9aa1e71ac9857c5d6"
   }
  }
 },
 "nbformat": 4,
 "nbformat_minor": 4
}
